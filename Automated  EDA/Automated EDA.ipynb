{
 "cells": [
  {
   "cell_type": "markdown",
   "id": "9cc82494",
   "metadata": {},
   "source": [
    "## Automated EDA Technique"
   ]
  },
  {
   "cell_type": "markdown",
   "id": "ce915f64",
   "metadata": {},
   "source": [
    "### Pandas Profiling (ydata profiling)"
   ]
  },
  {
   "cell_type": "code",
   "execution_count": 1,
   "id": "85bbbba5",
   "metadata": {},
   "outputs": [],
   "source": [
    "!pip install ydata-profiling"
   ]
  },
  {
   "cell_type": "code",
   "execution_count": 2,
   "id": "653f7165",
   "metadata": {},
   "outputs": [],
   "source": [
    "import ydata_profiling"
   ]
  },
  {
   "cell_type": "code",
   "execution_count": 3,
   "id": "ec3f03b4",
   "metadata": {},
   "outputs": [],
   "source": [
    "import seaborn as sns"
   ]
  },
  {
   "cell_type": "code",
   "execution_count": 4,
   "id": "6f39c63f",
   "metadata": {},
   "outputs": [],
   "source": [
    "df = sns.load_dataset(\"tips\")"
   ]
  },
  {
   "cell_type": "code",
   "execution_count": 5,
   "id": "382a5022",
   "metadata": {},
   "outputs": [],
   "source": [
    "df"
   ]
  },
  {
   "cell_type": "code",
   "execution_count": 6,
   "id": "f7dd4fdf",
   "metadata": {},
   "outputs": [],
   "source": [
    "from ydata_profiling import ProfileReport\n",
    "profile = ProfileReport(df, explorative = True, dark_mode=True)\n",
    "profile.to_file(\"Output.html\")"
   ]
  },
  {
   "cell_type": "markdown",
   "id": "e5c32a80",
   "metadata": {},
   "source": [
    "### dtale"
   ]
  },
  {
   "cell_type": "code",
   "execution_count": 7,
   "id": "be1742a0",
   "metadata": {},
   "outputs": [],
   "source": [
    "!pip install dtale"
   ]
  },
  {
   "cell_type": "code",
   "execution_count": 8,
   "id": "09751932",
   "metadata": {},
   "outputs": [],
   "source": [
    "import pandas as pd\n",
    "import seaborn as sns"
   ]
  },
  {
   "cell_type": "code",
   "execution_count": 9,
   "id": "95d3c714",
   "metadata": {},
   "outputs": [],
   "source": [
    "df=sns.load_dataset(\"iris\")"
   ]
  },
  {
   "cell_type": "code",
   "execution_count": 10,
   "id": "0a3be742",
   "metadata": {
    "scrolled": false
   },
   "outputs": [],
   "source": [
    "import dtale\n",
    "dtale.show(df)"
   ]
  },
  {
   "cell_type": "markdown",
   "id": "5cc4e56b",
   "metadata": {},
   "source": [
    "### pandas_visual_analysis"
   ]
  },
  {
   "cell_type": "code",
   "execution_count": 11,
   "id": "3d7fc509",
   "metadata": {},
   "outputs": [],
   "source": [
    "!pip install pandas_visual_analysis"
   ]
  },
  {
   "cell_type": "code",
   "execution_count": 12,
   "id": "ab5166d6",
   "metadata": {},
   "outputs": [],
   "source": [
    "from pandas_visual_analysis import VisualAnalysis\n",
    "VisualAnalysis(df)"
   ]
  },
  {
   "cell_type": "markdown",
   "id": "421493ca",
   "metadata": {},
   "source": [
    "## lux"
   ]
  },
  {
   "cell_type": "code",
   "execution_count": 15,
   "id": "2e883f31",
   "metadata": {},
   "outputs": [
    {
     "name": "stdout",
     "output_type": "stream",
     "text": [
      "Requirement already satisfied: lux in c:\\users\\sachi\\appdata\\local\\programs\\python\\python311\\lib\\site-packages (0.5.1)\n",
      "Requirement already satisfied: lux-api in c:\\users\\sachi\\appdata\\local\\programs\\python\\python311\\lib\\site-packages (from lux) (0.5.1)\n",
      "Requirement already satisfied: lux-widget in c:\\users\\sachi\\appdata\\local\\programs\\python\\python311\\lib\\site-packages (from lux) (0.1.11)\n",
      "Requirement already satisfied: scipy>=1.3.3 in c:\\users\\sachi\\appdata\\local\\programs\\python\\python311\\lib\\site-packages (from lux-api->lux) (1.9.3)\n",
      "Requirement already satisfied: altair>=4.0.0 in c:\\users\\sachi\\appdata\\local\\programs\\python\\python311\\lib\\site-packages (from lux-api->lux) (5.0.0)\n",
      "Requirement already satisfied: numpy>=1.16.5 in c:\\users\\sachi\\appdata\\local\\programs\\python\\python311\\lib\\site-packages (from lux-api->lux) (1.23.4)\n",
      "Requirement already satisfied: pandas in c:\\users\\sachi\\appdata\\local\\programs\\python\\python311\\lib\\site-packages (from lux-api->lux) (1.5.2)\n",
      "Requirement already satisfied: scikit-learn>=0.22 in c:\\users\\sachi\\appdata\\local\\programs\\python\\python311\\lib\\site-packages (from lux-api->lux) (1.2.2)\n",
      "Requirement already satisfied: matplotlib>=3.0.0 in c:\\users\\sachi\\appdata\\local\\programs\\python\\python311\\lib\\site-packages (from lux-api->lux) (3.6.2)\n",
      "Requirement already satisfied: autopep8>=1.5 in c:\\users\\sachi\\appdata\\local\\programs\\python\\python311\\lib\\site-packages (from lux-api->lux) (2.0.2)\n",
      "Requirement already satisfied: iso3166 in c:\\users\\sachi\\appdata\\local\\programs\\python\\python311\\lib\\site-packages (from lux-api->lux) (2.1.1)\n",
      "Requirement already satisfied: psutil>=5.9.0 in c:\\users\\sachi\\appdata\\local\\programs\\python\\python311\\lib\\site-packages (from lux-api->lux) (5.9.5)\n",
      "Requirement already satisfied: sh in c:\\users\\sachi\\appdata\\local\\programs\\python\\python311\\lib\\site-packages (from lux-api->lux) (2.0.4)\n",
      "Requirement already satisfied: notebook>=4.0.0 in c:\\users\\sachi\\appdata\\local\\programs\\python\\python311\\lib\\site-packages (from lux-widget->lux) (6.5.4)\n",
      "Requirement already satisfied: ipywidgets>=7.5.0 in c:\\users\\sachi\\appdata\\local\\programs\\python\\python311\\lib\\site-packages (from lux-widget->lux) (8.0.6)\n",
      "Requirement already satisfied: jinja2 in c:\\users\\sachi\\appdata\\local\\programs\\python\\python311\\lib\\site-packages (from altair>=4.0.0->lux-api->lux) (3.1.2)\n",
      "Requirement already satisfied: jsonschema>=3.0 in c:\\users\\sachi\\appdata\\local\\programs\\python\\python311\\lib\\site-packages (from altair>=4.0.0->lux-api->lux) (4.17.3)\n",
      "Requirement already satisfied: toolz in c:\\users\\sachi\\appdata\\local\\programs\\python\\python311\\lib\\site-packages (from altair>=4.0.0->lux-api->lux) (0.12.0)\n",
      "Requirement already satisfied: pycodestyle>=2.10.0 in c:\\users\\sachi\\appdata\\local\\programs\\python\\python311\\lib\\site-packages (from autopep8>=1.5->lux-api->lux) (2.10.0)\n",
      "Requirement already satisfied: ipykernel>=4.5.1 in c:\\users\\sachi\\appdata\\local\\programs\\python\\python311\\lib\\site-packages (from ipywidgets>=7.5.0->lux-widget->lux) (6.22.0)\n",
      "Requirement already satisfied: ipython>=6.1.0 in c:\\users\\sachi\\appdata\\local\\programs\\python\\python311\\lib\\site-packages (from ipywidgets>=7.5.0->lux-widget->lux) (8.12.0)\n",
      "Requirement already satisfied: traitlets>=4.3.1 in c:\\users\\sachi\\appdata\\local\\programs\\python\\python311\\lib\\site-packages (from ipywidgets>=7.5.0->lux-widget->lux) (5.9.0)\n",
      "Requirement already satisfied: widgetsnbextension~=4.0.7 in c:\\users\\sachi\\appdata\\local\\programs\\python\\python311\\lib\\site-packages (from ipywidgets>=7.5.0->lux-widget->lux) (4.0.7)\n",
      "Requirement already satisfied: jupyterlab-widgets~=3.0.7 in c:\\users\\sachi\\appdata\\local\\programs\\python\\python311\\lib\\site-packages (from ipywidgets>=7.5.0->lux-widget->lux) (3.0.7)\n",
      "Requirement already satisfied: contourpy>=1.0.1 in c:\\users\\sachi\\appdata\\local\\programs\\python\\python311\\lib\\site-packages (from matplotlib>=3.0.0->lux-api->lux) (1.0.6)\n",
      "Requirement already satisfied: cycler>=0.10 in c:\\users\\sachi\\appdata\\local\\programs\\python\\python311\\lib\\site-packages (from matplotlib>=3.0.0->lux-api->lux) (0.11.0)\n",
      "Requirement already satisfied: fonttools>=4.22.0 in c:\\users\\sachi\\appdata\\local\\programs\\python\\python311\\lib\\site-packages (from matplotlib>=3.0.0->lux-api->lux) (4.38.0)\n",
      "Requirement already satisfied: kiwisolver>=1.0.1 in c:\\users\\sachi\\appdata\\local\\programs\\python\\python311\\lib\\site-packages (from matplotlib>=3.0.0->lux-api->lux) (1.4.4)\n",
      "Requirement already satisfied: packaging>=20.0 in c:\\users\\sachi\\appdata\\local\\programs\\python\\python311\\lib\\site-packages (from matplotlib>=3.0.0->lux-api->lux) (22.0)\n",
      "Requirement already satisfied: pillow>=6.2.0 in c:\\users\\sachi\\appdata\\local\\programs\\python\\python311\\lib\\site-packages (from matplotlib>=3.0.0->lux-api->lux) (9.4.0)\n",
      "Requirement already satisfied: pyparsing>=2.2.1 in c:\\users\\sachi\\appdata\\local\\programs\\python\\python311\\lib\\site-packages (from matplotlib>=3.0.0->lux-api->lux) (3.0.9)\n",
      "Requirement already satisfied: python-dateutil>=2.7 in c:\\users\\sachi\\appdata\\local\\programs\\python\\python311\\lib\\site-packages (from matplotlib>=3.0.0->lux-api->lux) (2.8.2)\n",
      "Requirement already satisfied: tornado>=6.1 in c:\\users\\sachi\\appdata\\local\\programs\\python\\python311\\lib\\site-packages (from notebook>=4.0.0->lux-widget->lux) (6.3.1)\n",
      "Requirement already satisfied: pyzmq>=17 in c:\\users\\sachi\\appdata\\local\\programs\\python\\python311\\lib\\site-packages (from notebook>=4.0.0->lux-widget->lux) (25.0.2)\n",
      "Requirement already satisfied: argon2-cffi in c:\\users\\sachi\\appdata\\local\\programs\\python\\python311\\lib\\site-packages (from notebook>=4.0.0->lux-widget->lux) (21.3.0)\n",
      "Requirement already satisfied: jupyter-core>=4.6.1 in c:\\users\\sachi\\appdata\\local\\programs\\python\\python311\\lib\\site-packages (from notebook>=4.0.0->lux-widget->lux) (5.3.0)\n",
      "Requirement already satisfied: jupyter-client>=5.3.4 in c:\\users\\sachi\\appdata\\local\\programs\\python\\python311\\lib\\site-packages (from notebook>=4.0.0->lux-widget->lux) (8.2.0)\n",
      "Requirement already satisfied: ipython-genutils in c:\\users\\sachi\\appdata\\local\\programs\\python\\python311\\lib\\site-packages (from notebook>=4.0.0->lux-widget->lux) (0.2.0)\n",
      "Requirement already satisfied: nbformat in c:\\users\\sachi\\appdata\\local\\programs\\python\\python311\\lib\\site-packages (from notebook>=4.0.0->lux-widget->lux) (5.8.0)\n",
      "Requirement already satisfied: nbconvert>=5 in c:\\users\\sachi\\appdata\\local\\programs\\python\\python311\\lib\\site-packages (from notebook>=4.0.0->lux-widget->lux) (7.3.1)\n",
      "Requirement already satisfied: nest-asyncio>=1.5 in c:\\users\\sachi\\appdata\\local\\programs\\python\\python311\\lib\\site-packages (from notebook>=4.0.0->lux-widget->lux) (1.5.6)\n",
      "Requirement already satisfied: Send2Trash>=1.8.0 in c:\\users\\sachi\\appdata\\local\\programs\\python\\python311\\lib\\site-packages (from notebook>=4.0.0->lux-widget->lux) (1.8.0)\n",
      "Requirement already satisfied: terminado>=0.8.3 in c:\\users\\sachi\\appdata\\local\\programs\\python\\python311\\lib\\site-packages (from notebook>=4.0.0->lux-widget->lux) (0.17.1)\n",
      "Requirement already satisfied: prometheus-client in c:\\users\\sachi\\appdata\\local\\programs\\python\\python311\\lib\\site-packages (from notebook>=4.0.0->lux-widget->lux) (0.16.0)\n",
      "Requirement already satisfied: nbclassic>=0.4.7 in c:\\users\\sachi\\appdata\\local\\programs\\python\\python311\\lib\\site-packages (from notebook>=4.0.0->lux-widget->lux) (0.5.5)\n",
      "Requirement already satisfied: pytz>=2020.1 in c:\\users\\sachi\\appdata\\local\\programs\\python\\python311\\lib\\site-packages (from pandas->lux-api->lux) (2022.7)\n",
      "Requirement already satisfied: joblib>=1.1.1 in c:\\users\\sachi\\appdata\\local\\programs\\python\\python311\\lib\\site-packages (from scikit-learn>=0.22->lux-api->lux) (1.1.1)\n",
      "Requirement already satisfied: threadpoolctl>=2.0.0 in c:\\users\\sachi\\appdata\\local\\programs\\python\\python311\\lib\\site-packages (from scikit-learn>=0.22->lux-api->lux) (3.1.0)\n",
      "Requirement already satisfied: comm>=0.1.1 in c:\\users\\sachi\\appdata\\local\\programs\\python\\python311\\lib\\site-packages (from ipykernel>=4.5.1->ipywidgets>=7.5.0->lux-widget->lux) (0.1.3)\n",
      "Requirement already satisfied: debugpy>=1.6.5 in c:\\users\\sachi\\appdata\\local\\programs\\python\\python311\\lib\\site-packages (from ipykernel>=4.5.1->ipywidgets>=7.5.0->lux-widget->lux) (1.6.7)\n",
      "Requirement already satisfied: matplotlib-inline>=0.1 in c:\\users\\sachi\\appdata\\local\\programs\\python\\python311\\lib\\site-packages (from ipykernel>=4.5.1->ipywidgets>=7.5.0->lux-widget->lux) (0.1.6)\n",
      "Requirement already satisfied: backcall in c:\\users\\sachi\\appdata\\local\\programs\\python\\python311\\lib\\site-packages (from ipython>=6.1.0->ipywidgets>=7.5.0->lux-widget->lux) (0.2.0)\n",
      "Requirement already satisfied: decorator in c:\\users\\sachi\\appdata\\local\\programs\\python\\python311\\lib\\site-packages (from ipython>=6.1.0->ipywidgets>=7.5.0->lux-widget->lux) (5.1.1)\n",
      "Requirement already satisfied: jedi>=0.16 in c:\\users\\sachi\\appdata\\local\\programs\\python\\python311\\lib\\site-packages (from ipython>=6.1.0->ipywidgets>=7.5.0->lux-widget->lux) (0.18.2)\n",
      "Requirement already satisfied: pickleshare in c:\\users\\sachi\\appdata\\local\\programs\\python\\python311\\lib\\site-packages (from ipython>=6.1.0->ipywidgets>=7.5.0->lux-widget->lux) (0.7.5)\n",
      "Requirement already satisfied: prompt-toolkit!=3.0.37,<3.1.0,>=3.0.30 in c:\\users\\sachi\\appdata\\local\\programs\\python\\python311\\lib\\site-packages (from ipython>=6.1.0->ipywidgets>=7.5.0->lux-widget->lux) (3.0.38)\n",
      "Requirement already satisfied: pygments>=2.4.0 in c:\\users\\sachi\\appdata\\local\\programs\\python\\python311\\lib\\site-packages (from ipython>=6.1.0->ipywidgets>=7.5.0->lux-widget->lux) (2.15.1)\n",
      "Requirement already satisfied: stack-data in c:\\users\\sachi\\appdata\\local\\programs\\python\\python311\\lib\\site-packages (from ipython>=6.1.0->ipywidgets>=7.5.0->lux-widget->lux) (0.6.2)\n",
      "Requirement already satisfied: colorama in c:\\users\\sachi\\appdata\\local\\programs\\python\\python311\\lib\\site-packages (from ipython>=6.1.0->ipywidgets>=7.5.0->lux-widget->lux) (0.4.6)\n",
      "Requirement already satisfied: attrs>=17.4.0 in c:\\users\\sachi\\appdata\\local\\programs\\python\\python311\\lib\\site-packages (from jsonschema>=3.0->altair>=4.0.0->lux-api->lux) (23.1.0)\n",
      "Requirement already satisfied: pyrsistent!=0.17.0,!=0.17.1,!=0.17.2,>=0.14.0 in c:\\users\\sachi\\appdata\\local\\programs\\python\\python311\\lib\\site-packages (from jsonschema>=3.0->altair>=4.0.0->lux-api->lux) (0.19.3)\n",
      "Requirement already satisfied: platformdirs>=2.5 in c:\\users\\sachi\\appdata\\local\\programs\\python\\python311\\lib\\site-packages (from jupyter-core>=4.6.1->notebook>=4.0.0->lux-widget->lux) (3.3.0)\n",
      "Requirement already satisfied: pywin32>=300 in c:\\users\\sachi\\appdata\\local\\programs\\python\\python311\\lib\\site-packages (from jupyter-core>=4.6.1->notebook>=4.0.0->lux-widget->lux) (306)\n",
      "Requirement already satisfied: jupyter-server>=1.8 in c:\\users\\sachi\\appdata\\local\\programs\\python\\python311\\lib\\site-packages (from nbclassic>=0.4.7->notebook>=4.0.0->lux-widget->lux) (2.5.0)\n",
      "Requirement already satisfied: notebook-shim>=0.1.0 in c:\\users\\sachi\\appdata\\local\\programs\\python\\python311\\lib\\site-packages (from nbclassic>=0.4.7->notebook>=4.0.0->lux-widget->lux) (0.2.3)\n",
      "Requirement already satisfied: beautifulsoup4 in c:\\users\\sachi\\appdata\\local\\programs\\python\\python311\\lib\\site-packages (from nbconvert>=5->notebook>=4.0.0->lux-widget->lux) (4.12.2)\n",
      "Requirement already satisfied: bleach in c:\\users\\sachi\\appdata\\local\\programs\\python\\python311\\lib\\site-packages (from nbconvert>=5->notebook>=4.0.0->lux-widget->lux) (6.0.0)\n",
      "Requirement already satisfied: defusedxml in c:\\users\\sachi\\appdata\\local\\programs\\python\\python311\\lib\\site-packages (from nbconvert>=5->notebook>=4.0.0->lux-widget->lux) (0.7.1)\n",
      "Requirement already satisfied: jupyterlab-pygments in c:\\users\\sachi\\appdata\\local\\programs\\python\\python311\\lib\\site-packages (from nbconvert>=5->notebook>=4.0.0->lux-widget->lux) (0.2.2)\n",
      "Requirement already satisfied: markupsafe>=2.0 in c:\\users\\sachi\\appdata\\local\\programs\\python\\python311\\lib\\site-packages (from nbconvert>=5->notebook>=4.0.0->lux-widget->lux) (2.1.2)\n",
      "Requirement already satisfied: mistune<3,>=2.0.3 in c:\\users\\sachi\\appdata\\local\\programs\\python\\python311\\lib\\site-packages (from nbconvert>=5->notebook>=4.0.0->lux-widget->lux) (2.0.5)\n",
      "Requirement already satisfied: nbclient>=0.5.0 in c:\\users\\sachi\\appdata\\local\\programs\\python\\python311\\lib\\site-packages (from nbconvert>=5->notebook>=4.0.0->lux-widget->lux) (0.7.4)\n",
      "Requirement already satisfied: pandocfilters>=1.4.1 in c:\\users\\sachi\\appdata\\local\\programs\\python\\python311\\lib\\site-packages (from nbconvert>=5->notebook>=4.0.0->lux-widget->lux) (1.5.0)\n",
      "Requirement already satisfied: tinycss2 in c:\\users\\sachi\\appdata\\local\\programs\\python\\python311\\lib\\site-packages (from nbconvert>=5->notebook>=4.0.0->lux-widget->lux) (1.2.1)\n",
      "Requirement already satisfied: fastjsonschema in c:\\users\\sachi\\appdata\\local\\programs\\python\\python311\\lib\\site-packages (from nbformat->notebook>=4.0.0->lux-widget->lux) (2.16.3)\n",
      "Requirement already satisfied: six>=1.5 in c:\\users\\sachi\\appdata\\local\\programs\\python\\python311\\lib\\site-packages (from python-dateutil>=2.7->matplotlib>=3.0.0->lux-api->lux) (1.16.0)\n",
      "Requirement already satisfied: pywinpty>=1.1.0 in c:\\users\\sachi\\appdata\\local\\programs\\python\\python311\\lib\\site-packages (from terminado>=0.8.3->notebook>=4.0.0->lux-widget->lux) (2.0.10)\n",
      "Requirement already satisfied: argon2-cffi-bindings in c:\\users\\sachi\\appdata\\local\\programs\\python\\python311\\lib\\site-packages (from argon2-cffi->notebook>=4.0.0->lux-widget->lux) (21.2.0)\n",
      "Requirement already satisfied: parso<0.9.0,>=0.8.0 in c:\\users\\sachi\\appdata\\local\\programs\\python\\python311\\lib\\site-packages (from jedi>=0.16->ipython>=6.1.0->ipywidgets>=7.5.0->lux-widget->lux) (0.8.3)\n",
      "Requirement already satisfied: anyio>=3.1.0 in c:\\users\\sachi\\appdata\\local\\programs\\python\\python311\\lib\\site-packages (from jupyter-server>=1.8->nbclassic>=0.4.7->notebook>=4.0.0->lux-widget->lux) (3.6.2)\n",
      "Requirement already satisfied: jupyter-events>=0.4.0 in c:\\users\\sachi\\appdata\\local\\programs\\python\\python311\\lib\\site-packages (from jupyter-server>=1.8->nbclassic>=0.4.7->notebook>=4.0.0->lux-widget->lux) (0.6.3)\n",
      "Requirement already satisfied: jupyter-server-terminals in c:\\users\\sachi\\appdata\\local\\programs\\python\\python311\\lib\\site-packages (from jupyter-server>=1.8->nbclassic>=0.4.7->notebook>=4.0.0->lux-widget->lux) (0.4.4)\n",
      "Requirement already satisfied: websocket-client in c:\\users\\sachi\\appdata\\local\\programs\\python\\python311\\lib\\site-packages (from jupyter-server>=1.8->nbclassic>=0.4.7->notebook>=4.0.0->lux-widget->lux) (1.5.1)\n",
      "Requirement already satisfied: wcwidth in c:\\users\\sachi\\appdata\\local\\programs\\python\\python311\\lib\\site-packages (from prompt-toolkit!=3.0.37,<3.1.0,>=3.0.30->ipython>=6.1.0->ipywidgets>=7.5.0->lux-widget->lux) (0.2.6)\n",
      "Requirement already satisfied: cffi>=1.0.1 in c:\\users\\sachi\\appdata\\local\\programs\\python\\python311\\lib\\site-packages (from argon2-cffi-bindings->argon2-cffi->notebook>=4.0.0->lux-widget->lux) (1.15.1)\n",
      "Requirement already satisfied: soupsieve>1.2 in c:\\users\\sachi\\appdata\\local\\programs\\python\\python311\\lib\\site-packages (from beautifulsoup4->nbconvert>=5->notebook>=4.0.0->lux-widget->lux) (2.4.1)\n",
      "Requirement already satisfied: webencodings in c:\\users\\sachi\\appdata\\local\\programs\\python\\python311\\lib\\site-packages (from bleach->nbconvert>=5->notebook>=4.0.0->lux-widget->lux) (0.5.1)\n",
      "Requirement already satisfied: executing>=1.2.0 in c:\\users\\sachi\\appdata\\local\\programs\\python\\python311\\lib\\site-packages (from stack-data->ipython>=6.1.0->ipywidgets>=7.5.0->lux-widget->lux) (1.2.0)\n",
      "Requirement already satisfied: asttokens>=2.1.0 in c:\\users\\sachi\\appdata\\local\\programs\\python\\python311\\lib\\site-packages (from stack-data->ipython>=6.1.0->ipywidgets>=7.5.0->lux-widget->lux) (2.2.1)\n",
      "Requirement already satisfied: pure-eval in c:\\users\\sachi\\appdata\\local\\programs\\python\\python311\\lib\\site-packages (from stack-data->ipython>=6.1.0->ipywidgets>=7.5.0->lux-widget->lux) (0.2.2)\n",
      "Requirement already satisfied: idna>=2.8 in c:\\users\\sachi\\appdata\\local\\programs\\python\\python311\\lib\\site-packages (from anyio>=3.1.0->jupyter-server>=1.8->nbclassic>=0.4.7->notebook>=4.0.0->lux-widget->lux) (3.4)\n",
      "Requirement already satisfied: sniffio>=1.1 in c:\\users\\sachi\\appdata\\local\\programs\\python\\python311\\lib\\site-packages (from anyio>=3.1.0->jupyter-server>=1.8->nbclassic>=0.4.7->notebook>=4.0.0->lux-widget->lux) (1.3.0)\n",
      "Requirement already satisfied: pycparser in c:\\users\\sachi\\appdata\\local\\programs\\python\\python311\\lib\\site-packages (from cffi>=1.0.1->argon2-cffi-bindings->argon2-cffi->notebook>=4.0.0->lux-widget->lux) (2.21)\n",
      "Requirement already satisfied: python-json-logger>=2.0.4 in c:\\users\\sachi\\appdata\\local\\programs\\python\\python311\\lib\\site-packages (from jupyter-events>=0.4.0->jupyter-server>=1.8->nbclassic>=0.4.7->notebook>=4.0.0->lux-widget->lux) (2.0.7)\n",
      "Requirement already satisfied: pyyaml>=5.3 in c:\\users\\sachi\\appdata\\local\\programs\\python\\python311\\lib\\site-packages (from jupyter-events>=0.4.0->jupyter-server>=1.8->nbclassic>=0.4.7->notebook>=4.0.0->lux-widget->lux) (6.0)\n",
      "Requirement already satisfied: rfc3339-validator in c:\\users\\sachi\\appdata\\local\\programs\\python\\python311\\lib\\site-packages (from jupyter-events>=0.4.0->jupyter-server>=1.8->nbclassic>=0.4.7->notebook>=4.0.0->lux-widget->lux) (0.1.4)\n",
      "Requirement already satisfied: rfc3986-validator>=0.1.1 in c:\\users\\sachi\\appdata\\local\\programs\\python\\python311\\lib\\site-packages (from jupyter-events>=0.4.0->jupyter-server>=1.8->nbclassic>=0.4.7->notebook>=4.0.0->lux-widget->lux) (0.1.1)\n",
      "Requirement already satisfied: fqdn in c:\\users\\sachi\\appdata\\local\\programs\\python\\python311\\lib\\site-packages (from jsonschema>=3.0->altair>=4.0.0->lux-api->lux) (1.5.1)\n",
      "Requirement already satisfied: isoduration in c:\\users\\sachi\\appdata\\local\\programs\\python\\python311\\lib\\site-packages (from jsonschema>=3.0->altair>=4.0.0->lux-api->lux) (20.11.0)\n",
      "Requirement already satisfied: jsonpointer>1.13 in c:\\users\\sachi\\appdata\\local\\programs\\python\\python311\\lib\\site-packages (from jsonschema>=3.0->altair>=4.0.0->lux-api->lux) (2.3)\n",
      "Requirement already satisfied: uri-template in c:\\users\\sachi\\appdata\\local\\programs\\python\\python311\\lib\\site-packages (from jsonschema>=3.0->altair>=4.0.0->lux-api->lux) (1.2.0)\n",
      "Requirement already satisfied: webcolors>=1.11 in c:\\users\\sachi\\appdata\\local\\programs\\python\\python311\\lib\\site-packages (from jsonschema>=3.0->altair>=4.0.0->lux-api->lux) (1.13)\n",
      "Requirement already satisfied: arrow>=0.15.0 in c:\\users\\sachi\\appdata\\local\\programs\\python\\python311\\lib\\site-packages (from isoduration->jsonschema>=3.0->altair>=4.0.0->lux-api->lux) (1.2.3)\n"
     ]
    }
   ],
   "source": [
    "!pip install lux"
   ]
  },
  {
   "cell_type": "code",
   "execution_count": 16,
   "id": "c98f8b2f",
   "metadata": {},
   "outputs": [
    {
     "data": {
      "text/html": [
       "<div>\n",
       "<style scoped>\n",
       "    .dataframe tbody tr th:only-of-type {\n",
       "        vertical-align: middle;\n",
       "    }\n",
       "\n",
       "    .dataframe tbody tr th {\n",
       "        vertical-align: top;\n",
       "    }\n",
       "\n",
       "    .dataframe thead th {\n",
       "        text-align: right;\n",
       "    }\n",
       "</style>\n",
       "<table border=\"1\" class=\"dataframe\">\n",
       "  <thead>\n",
       "    <tr style=\"text-align: right;\">\n",
       "      <th></th>\n",
       "      <th>sepal_length</th>\n",
       "      <th>sepal_width</th>\n",
       "      <th>petal_length</th>\n",
       "      <th>petal_width</th>\n",
       "      <th>species</th>\n",
       "    </tr>\n",
       "  </thead>\n",
       "  <tbody>\n",
       "    <tr>\n",
       "      <th>0</th>\n",
       "      <td>5.1</td>\n",
       "      <td>3.5</td>\n",
       "      <td>1.4</td>\n",
       "      <td>0.2</td>\n",
       "      <td>setosa</td>\n",
       "    </tr>\n",
       "    <tr>\n",
       "      <th>1</th>\n",
       "      <td>4.9</td>\n",
       "      <td>3.0</td>\n",
       "      <td>1.4</td>\n",
       "      <td>0.2</td>\n",
       "      <td>setosa</td>\n",
       "    </tr>\n",
       "    <tr>\n",
       "      <th>2</th>\n",
       "      <td>4.7</td>\n",
       "      <td>3.2</td>\n",
       "      <td>1.3</td>\n",
       "      <td>0.2</td>\n",
       "      <td>setosa</td>\n",
       "    </tr>\n",
       "    <tr>\n",
       "      <th>3</th>\n",
       "      <td>4.6</td>\n",
       "      <td>3.1</td>\n",
       "      <td>1.5</td>\n",
       "      <td>0.2</td>\n",
       "      <td>setosa</td>\n",
       "    </tr>\n",
       "    <tr>\n",
       "      <th>4</th>\n",
       "      <td>5.0</td>\n",
       "      <td>3.6</td>\n",
       "      <td>1.4</td>\n",
       "      <td>0.2</td>\n",
       "      <td>setosa</td>\n",
       "    </tr>\n",
       "    <tr>\n",
       "      <th>...</th>\n",
       "      <td>...</td>\n",
       "      <td>...</td>\n",
       "      <td>...</td>\n",
       "      <td>...</td>\n",
       "      <td>...</td>\n",
       "    </tr>\n",
       "    <tr>\n",
       "      <th>145</th>\n",
       "      <td>6.7</td>\n",
       "      <td>3.0</td>\n",
       "      <td>5.2</td>\n",
       "      <td>2.3</td>\n",
       "      <td>virginica</td>\n",
       "    </tr>\n",
       "    <tr>\n",
       "      <th>146</th>\n",
       "      <td>6.3</td>\n",
       "      <td>2.5</td>\n",
       "      <td>5.0</td>\n",
       "      <td>1.9</td>\n",
       "      <td>virginica</td>\n",
       "    </tr>\n",
       "    <tr>\n",
       "      <th>147</th>\n",
       "      <td>6.5</td>\n",
       "      <td>3.0</td>\n",
       "      <td>5.2</td>\n",
       "      <td>2.0</td>\n",
       "      <td>virginica</td>\n",
       "    </tr>\n",
       "    <tr>\n",
       "      <th>148</th>\n",
       "      <td>6.2</td>\n",
       "      <td>3.4</td>\n",
       "      <td>5.4</td>\n",
       "      <td>2.3</td>\n",
       "      <td>virginica</td>\n",
       "    </tr>\n",
       "    <tr>\n",
       "      <th>149</th>\n",
       "      <td>5.9</td>\n",
       "      <td>3.0</td>\n",
       "      <td>5.1</td>\n",
       "      <td>1.8</td>\n",
       "      <td>virginica</td>\n",
       "    </tr>\n",
       "  </tbody>\n",
       "</table>\n",
       "<p>150 rows × 5 columns</p>\n",
       "</div>"
      ],
      "text/plain": [
       "     sepal_length  sepal_width  petal_length  petal_width    species\n",
       "0             5.1          3.5           1.4          0.2     setosa\n",
       "1             4.9          3.0           1.4          0.2     setosa\n",
       "2             4.7          3.2           1.3          0.2     setosa\n",
       "3             4.6          3.1           1.5          0.2     setosa\n",
       "4             5.0          3.6           1.4          0.2     setosa\n",
       "..            ...          ...           ...          ...        ...\n",
       "145           6.7          3.0           5.2          2.3  virginica\n",
       "146           6.3          2.5           5.0          1.9  virginica\n",
       "147           6.5          3.0           5.2          2.0  virginica\n",
       "148           6.2          3.4           5.4          2.3  virginica\n",
       "149           5.9          3.0           5.1          1.8  virginica\n",
       "\n",
       "[150 rows x 5 columns]"
      ]
     },
     "execution_count": 16,
     "metadata": {},
     "output_type": "execute_result"
    }
   ],
   "source": [
    "import lux\n",
    "df"
   ]
  },
  {
   "cell_type": "code",
   "execution_count": null,
   "id": "d4db59d8",
   "metadata": {},
   "outputs": [],
   "source": []
  }
 ],
 "metadata": {
  "kernelspec": {
   "display_name": "Python 3 (ipykernel)",
   "language": "python",
   "name": "python3"
  },
  "language_info": {
   "codemirror_mode": {
    "name": "ipython",
    "version": 3
   },
   "file_extension": ".py",
   "mimetype": "text/x-python",
   "name": "python",
   "nbconvert_exporter": "python",
   "pygments_lexer": "ipython3",
   "version": "3.11.1"
  }
 },
 "nbformat": 4,
 "nbformat_minor": 5
}
